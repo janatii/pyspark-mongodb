{
 "cells": [
  {
   "cell_type": "code",
   "execution_count": 8,
   "id": "3ef04e70",
   "metadata": {},
   "outputs": [],
   "source": [
    "from utils import create_spark_session\n",
    "from pyspark.sql.functions import sum, desc, col, avg"
   ]
  },
  {
   "cell_type": "code",
   "execution_count": 5,
   "id": "632e7a61",
   "metadata": {},
   "outputs": [
    {
     "name": "stderr",
     "output_type": "stream",
     "text": [
      "22/01/27 00:14:14 WARN Utils: Your hostname, pc resolves to a loopback address: 127.0.1.1; using 192.168.1.241 instead (on interface wlp3s0)\n",
      "22/01/27 00:14:14 WARN Utils: Set SPARK_LOCAL_IP if you need to bind to another address\n",
      "WARNING: An illegal reflective access operation has occurred\n",
      "WARNING: Illegal reflective access by org.apache.spark.unsafe.Platform (file:/home/janatii/kinexia/venv/lib/python3.8/site-packages/pyspark/jars/spark-unsafe_2.12-3.2.0.jar) to constructor java.nio.DirectByteBuffer(long,int)\n",
      "WARNING: Please consider reporting this to the maintainers of org.apache.spark.unsafe.Platform\n",
      "WARNING: Use --illegal-access=warn to enable warnings of further illegal reflective access operations\n",
      "WARNING: All illegal access operations will be denied in a future release\n"
     ]
    },
    {
     "name": "stdout",
     "output_type": "stream",
     "text": [
      ":: loading settings :: url = jar:file:/home/janatii/kinexia/venv/lib/python3.8/site-packages/pyspark/jars/ivy-2.5.0.jar!/org/apache/ivy/core/settings/ivysettings.xml\n"
     ]
    },
    {
     "name": "stderr",
     "output_type": "stream",
     "text": [
      "Ivy Default Cache set to: /home/janatii/.ivy2/cache\n",
      "The jars for the packages stored in: /home/janatii/.ivy2/jars\n",
      "org.mongodb.spark#mongo-spark-connector_2.12 added as a dependency\n",
      ":: resolving dependencies :: org.apache.spark#spark-submit-parent-cf8fe8d9-e03b-41bc-9c34-9436ecef06ae;1.0\n",
      "\tconfs: [default]\n",
      "\tfound org.mongodb.spark#mongo-spark-connector_2.12;3.0.1 in central\n",
      "\tfound org.mongodb#mongodb-driver-sync;4.0.5 in central\n",
      "\tfound org.mongodb#bson;4.0.5 in central\n",
      "\tfound org.mongodb#mongodb-driver-core;4.0.5 in central\n",
      ":: resolution report :: resolve 263ms :: artifacts dl 13ms\n",
      "\t:: modules in use:\n",
      "\torg.mongodb#bson;4.0.5 from central in [default]\n",
      "\torg.mongodb#mongodb-driver-core;4.0.5 from central in [default]\n",
      "\torg.mongodb#mongodb-driver-sync;4.0.5 from central in [default]\n",
      "\torg.mongodb.spark#mongo-spark-connector_2.12;3.0.1 from central in [default]\n",
      "\t---------------------------------------------------------------------\n",
      "\t|                  |            modules            ||   artifacts   |\n",
      "\t|       conf       | number| search|dwnlded|evicted|| number|dwnlded|\n",
      "\t---------------------------------------------------------------------\n",
      "\t|      default     |   4   |   0   |   0   |   0   ||   4   |   0   |\n",
      "\t---------------------------------------------------------------------\n",
      ":: retrieving :: org.apache.spark#spark-submit-parent-cf8fe8d9-e03b-41bc-9c34-9436ecef06ae\n",
      "\tconfs: [default]\n",
      "\t0 artifacts copied, 4 already retrieved (0kB/9ms)\n",
      "22/01/27 00:14:15 WARN NativeCodeLoader: Unable to load native-hadoop library for your platform... using builtin-java classes where applicable\n",
      "Using Spark's default log4j profile: org/apache/spark/log4j-defaults.properties\n",
      "Setting default log level to \"WARN\".\n",
      "To adjust logging level use sc.setLogLevel(newLevel). For SparkR, use setLogLevel(newLevel).\n",
      "/home/janatii/kinexia/venv/lib/python3.8/site-packages/pyspark/sql/context.py:77: FutureWarning: Deprecated in 3.0.0. Use SparkSession.builder.getOrCreate() instead.\n",
      "  warnings.warn(\n",
      "22/01/27 00:14:19 WARN MongoInferSchema: Field 'Description' contains conflicting types converting to StringType\n",
      "22/01/27 00:14:19 WARN MongoInferSchema: Field 'InvoiceNo' contains conflicting types converting to StringType\n",
      "22/01/27 00:14:19 WARN MongoInferSchema: Field 'StockCode' contains conflicting types converting to StringType\n"
     ]
    }
   ],
   "source": [
    "spark = create_spark_session(__name__, 'mydata', 'online_retail')\n",
    "\n",
    "df = spark.sql('select * from online_retail')"
   ]
  },
  {
   "cell_type": "code",
   "execution_count": 10,
   "id": "a67652a1",
   "metadata": {},
   "outputs": [
    {
     "name": "stderr",
     "output_type": "stream",
     "text": [
      "[Stage 4:===============================================>           (4 + 1) / 5]\r"
     ]
    },
    {
     "name": "stdout",
     "output_type": "stream",
     "text": [
      "+---------+---------------------------------------------+\n",
      "|InvoiceNo|(sum((Quantity * UnitPrice)) / sum(Quantity))|\n",
      "+---------+---------------------------------------------+\n",
      "|   536596|                            4.232222222222223|\n",
      "|   536938|                           3.6225862068965515|\n",
      "|   537252|                                         0.85|\n",
      "|   537691|                           1.9053374233128835|\n",
      "|   538041|                                          0.0|\n",
      "|   538184|                           1.4615286624203816|\n",
      "|   536597|                           1.4477464788732395|\n",
      "|   536608|                                         1.27|\n",
      "|   536765|                                          0.0|\n",
      "|   537439|                                          0.0|\n",
      "|   537631|                                         1.45|\n",
      "|   537870|                                         -0.0|\n",
      "|   538142|                                          0.0|\n",
      "|   538177|                             4.80245788667688|\n",
      "|   538308|                           1.3553731343283582|\n",
      "|   536414|                                          0.0|\n",
      "|   537246|                           2.4415094339622643|\n",
      "|   537256|                             2.84396984924623|\n",
      "|   537634|                            3.740322580645161|\n",
      "|   537871|                           1.3584552845528455|\n",
      "+---------+---------------------------------------------+\n",
      "only showing top 20 rows\n",
      "\n"
     ]
    },
    {
     "name": "stderr",
     "output_type": "stream",
     "text": [
      "\r",
      "                                                                                \r"
     ]
    }
   ],
   "source": [
    "df.groupBy('InvoiceNo').agg(\n",
    "            sum(col('Quantity') * col('UnitPrice')) / sum(\n",
    "                col('Quantity')).alias('Price to Quantity Ratio')).show()"
   ]
  },
  {
   "cell_type": "code",
   "execution_count": null,
   "id": "5f291532",
   "metadata": {},
   "outputs": [],
   "source": []
  }
 ],
 "metadata": {
  "kernelspec": {
   "display_name": "Python 3 (ipykernel)",
   "language": "python",
   "name": "python3"
  },
  "language_info": {
   "codemirror_mode": {
    "name": "ipython",
    "version": 3
   },
   "file_extension": ".py",
   "mimetype": "text/x-python",
   "name": "python",
   "nbconvert_exporter": "python",
   "pygments_lexer": "ipython3",
   "version": "3.8.10"
  }
 },
 "nbformat": 4,
 "nbformat_minor": 5
}
